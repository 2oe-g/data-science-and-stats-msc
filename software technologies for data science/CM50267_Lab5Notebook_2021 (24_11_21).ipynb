{
 "cells": [
  {
   "cell_type": "markdown",
   "metadata": {},
   "source": [
    "# CM50267 Software Technologies for Data Science\n",
    "### Lab 5 – Databases\n",
    "\n",
    "In this lab you will develop an SQL database for the student assessment recording example we have used in the lectures. The lab is designed to be implemented using sqlite3 via python.\n",
    "\n",
    "There is no auto-marker for this lab. You can have it marked in one of two ways.\n",
    "\n",
    "Option 1: Demonstrate it to a tutor in the lab session. They will record that the code behaves correctly and you will receive the mark. You *must* also upload it to moodle by the lab deadline. No marks will be given if it is not uploaded, even if the tutor has checked the code. This is the fastest way to get feedback, and ensure that you will get the marks.\n",
    "\n",
    "Option 2: Upload the code to moodle by the lab deadline. It will be marked online using an additional dataset. This will be a slower process and you run the risk that even though your code produced the output below, there is a bug that will be demonstrated by the use of a different dataset.\n"
   ]
  },
  {
   "cell_type": "code",
   "execution_count": 1,
   "metadata": {},
   "outputs": [],
   "source": [
    "# This code wraps up the database access in a single function.\n",
    "import sqlite3\n",
    "\n",
    "# access_database requires the name of a sqlite3 database file and the query.\n",
    "# It does not return the result of the query.\n",
    "def access_database(dbfile, query):\n",
    "    connect = sqlite3.connect(dbfile)\n",
    "    cursor = connect.cursor()\n",
    "    cursor.execute(query)\n",
    "    connect.commit()\n",
    "    connect.close()\n",
    "\n",
    "# access_database requires the name of an sqlite3 database file and the query.\n",
    "# It returns the result of the query\n",
    "def access_database_with_result(dbfile, query):\n",
    "    connect = sqlite3.connect(dbfile)\n",
    "    cursor = connect.cursor()\n",
    "    rows = cursor.execute(query).fetchall()\n",
    "    connect.commit()\n",
    "    connect.close()\n",
    "    return rows"
   ]
  },
  {
   "cell_type": "markdown",
   "metadata": {},
   "source": [
    "## Initial Setup\n",
    "\n",
    "The first step is to create the tables needed to store the data. These will be pre-defined to ensure consistency.\n",
    "\n",
    "### units\n",
    "This table holds the basic detail of a unit.\n",
    "\n",
    "unitid A unique integer identifier used to reference a unit.\n",
    "\n",
    "name The sring name of the unit.\n",
    "\n",
    "level The educational level of the unit.\n",
    "\n",
    "semester The semester in which the unit occurs. 0 indicated whole year.\n",
    "\n",
    "### students\n",
    "This table holds the basic detail of a student.\n",
    "\n",
    "studentid A unique integer identifier used to reference a student.\n",
    "\n",
    "name A string name of the student.\n",
    "\n",
    "### enrolled\n",
    "This table indicates which students are enrolled on a unit and in which year. Note that it used the id values of the student and unit to create the relatioship.\n",
    "\n",
    "studentid The id of a student.\n",
    "\n",
    "unitid The id of a unit.\n",
    "\n",
    "year An integer indicate the year the student was enrolled in the unit.\n",
    "\n",
    "### assessments\n",
    "An assessment if an assignement create by the lecturer for a unit, in a given year. The weightings for a unit in a given year are expected to sum to 100%\n",
    "\n",
    "assessmentid A unique integer identifier used to reference an assignment.\n",
    "\n",
    "unitd Which unit this assessment belongs to.\n",
    "\n",
    "year The integer year that this assignment relates to.\n",
    "\n",
    "name A string name for the assessment.\n",
    "\n",
    "mark The integer maximum mark available for the assignment.\n",
    "\n",
    "weighting The integer weighting out of 100 for this assignment.\n",
    "\n",
    "deadline The initial deadline set for this assignment.\n",
    "\n",
    "### assignments\n",
    "An assignment is the record of the assessment for an individual student.\n",
    "\n",
    "assignmentid A unique integer identifier used to reference an assignment instance.\n",
    "studentid The student this instance relates to.\n",
    "\n",
    "assessmentid The assessment this instance relates to.\n",
    "\n",
    "deadline The deadline for this student.\n",
    "\n",
    "submitted The date on which this assessment was submitted.\n",
    "\n",
    "mark The mark allocated to this piece of work.\n",
    "\n",
    "marked A flag indicating if this piece of work has been marked. 0:no, 1: yes."
   ]
  },
  {
   "cell_type": "code",
   "execution_count": 2,
   "metadata": {},
   "outputs": [],
   "source": [
    "# Set up the tables\n",
    "\n",
    "def setup_assessment_tables(dbfile):\n",
    "    # Get rid of any existing data\n",
    "    access_database(dbfile, \"DROP TABLE IF EXISTS units\")\n",
    "    access_database(dbfile, \"DROP TABLE IF EXISTS students\")\n",
    "    access_database(dbfile, \"DROP TABLE IF EXISTS enrolled\")\n",
    "    access_database(dbfile, \"DROP TABLE IF EXISTS assessments\")\n",
    "    access_database(dbfile, \"DROP TABLE IF EXISTS assignments\")\n",
    "    # Freshly setup tables\n",
    "    access_database(dbfile, \"CREATE TABLE units (unitid INT, name TEXT, level INT, semester INT)\")\n",
    "    access_database(dbfile, \"CREATE TABLE students (studentid INT, name TEXT)\")\n",
    "    access_database(dbfile, \"CREATE TABLE enrolled (studentid INT, unitid INT, year INT)\")\n",
    "    access_database(dbfile, \"CREATE TABLE assessments (assessmentid INT, unitid INT, year INT, name TEXT, mark INT, weighting INT, deadline DATE)\")\n",
    "    access_database(dbfile, \"CREATE TABLE assignments (assignmentid INTEGER PRIMARY KEY AUTOINCREMENT, studentid INT, assessmentid INT, deadline DATE, submitted DATE, mark INT, marked INT)\")\n",
    "    # Populate the tables with some initial data\n",
    "    access_database(dbfile, \"INSERT INTO units VALUES (100,'CM60100', 6, 1), (101,'CM60101', 6, 1), (102,'XX60200', 6, 1)\")\n",
    "    access_database(dbfile, \"INSERT INTO students VALUES (1001,'Rod'),(1002,'Jane'),(1003,'Freddy')\")\n",
    "    access_database(dbfile,\"INSERT INTO enrolled VALUES (1001,100,2020), (1001,101,2020), (1002,100,2019), (1002,101,2020), (1002,102,2019), (1003, 101, 2019), (1003, 102, 2019)\")\n",
    "    access_database(dbfile,\"INSERT INTO assessments VALUES (1,100,2020,'Exam',100,75,'2021-1-25 20:00'), (2,100,2020,'Coursework',100,25,'2020-12-25 20:00'), (3,101,2020,'Coursework',50,100,'2020-12-15 20:00'), (4,102,2019,'Coursework',50,100,'2019-12-15 20:00')\")"
   ]
  },
  {
   "cell_type": "code",
   "execution_count": 3,
   "metadata": {},
   "outputs": [],
   "source": [
    "# Task 1 (1 Mark): Provide a function that indicates the units a student is taking in a given year.\n",
    "# It should return a list of the units being taken in icreasing order of unitid. e.g. [101,104,105]\n",
    "\n",
    "def student_units(database, studentid, year):\n",
    "    row = access_database_with_result(database,\"SELECT enrolled.unitid FROM enrolled WHERE studentid = {} AND year = {} ORDER BY enrolled.unitid ASC\".format(studentid,year))\n",
    "    l = []\n",
    "    for u in row:\n",
    "        l.append(u[0])\n",
    "    return l\n"
   ]
  },
  {
   "cell_type": "code",
   "execution_count": 4,
   "metadata": {},
   "outputs": [],
   "source": [
    "# Task 2 (1 Mark): Provide a function that indicates the students that are enrolled on a unit.\n",
    "# It should return a list of tupples of studentid and name ordered by studentid. e.g. [(110,'Zipppy'),(111,'Bungle')]\n",
    "\n",
    "def unit_students(database, unitid, year):\n",
    "    row = access_database_with_result(database,\"SELECT enrolled.studentid, students.name FROM enrolled, students WHERE enrolled.studentid = students.studentid AND enrolled.unitid = {} AND enrolled.year = {} GROUP BY students.name ORDER BY students.studentid\".format(unitid, year))\n",
    "    return row\n",
    "        "
   ]
  },
  {
   "cell_type": "code",
   "execution_count": 5,
   "metadata": {},
   "outputs": [],
   "source": [
    "# Task 3 (2 Marks): Provide a function that indicates how many students are taking each unit in a given year.\n",
    "# It should return a list of tupples of unitid, unitname and count ordered by sunitid. e.g. [(1010,'Machine Learning',50),(1020,'Dissertaton',37)]\n",
    "\n",
    "def unit_numbers(database, year):\n",
    "    row = access_database_with_result(database,\"SELECT units.unitid, units.name, COUNT(enrolled.studentid) FROM units, enrolled WHERE units.unitid = enrolled.unitid AND enrolled.year = {} GROUP BY units.unitid ORDER BY units.unitid\".format(year))\n",
    "    return row\n"
   ]
  },
  {
   "cell_type": "code",
   "execution_count": 6,
   "metadata": {},
   "outputs": [],
   "source": [
    "# Task 4 (2 Marks): Provide a function that uses the enrollments and assessements tables to fully populate the assignments table.\n",
    "# All asssignemntsfor each student in a given year should be created. Only the assignements a student should be\n",
    "# undertaking should be created.\n",
    "\n",
    "def create_assignments(database, year):\n",
    "    access_database(database,\"INSERT INTO assignments (studentid, assessmentid, deadline, marked) SELECT enrolled.studentid, assessments.assessmentid, assessments.deadline, 0 FROM enrolled INNER JOIN assessments ON enrolled.unitid = assessments.unitid AND enrolled.year = assessments.year WHERE enrolled.year ={}\".format(year))\n"
   ]
  },
  {
   "cell_type": "code",
   "execution_count": 7,
   "metadata": {},
   "outputs": [],
   "source": [
    "# Task 5 (2 Mark): Update the mark of an assignment, given the studentid, assessmentid and mark.\n",
    "# It should update the marked flag and the mark.\n",
    "\n",
    "def mark_assignment(database, studentid, assessmentid, mark):\n",
    "    access_database(database,\"UPDATE assignments SET mark = {}, marked = 1 WHERE studentid = {} AND assessmentid = {}\".format(mark, studentid, assessmentid))\n",
    "\n"
   ]
  },
  {
   "cell_type": "code",
   "execution_count": 8,
   "metadata": {},
   "outputs": [],
   "source": [
    "# Task 6 (2 Marks): Compute the overall mark for all students taking a specified unit in a given year.\n",
    "\n",
    "def unit_marks(database, unitid, year):\n",
    "    rows=access_database_with_result(database,\"SELECT studentid, SUM(CAST(assignments.mark AS FLOAT)/assessments.mark*assessments.weighting) FROM assessments INNER JOIN assignments ON assignments.assessmentid = assessments.assessmentid WHERE assessments.unitid = {} and assessments.year = {} GROUP BY assignments.studentid\".format(unitid, year));\n",
    "    return rows\n"
   ]
  },
  {
   "cell_type": "code",
   "execution_count": 9,
   "metadata": {},
   "outputs": [],
   "source": [
    "# Task 7 (2 Marks): Compute the overall marks for each unit taken by a given student across all years.\n",
    "\n",
    "def student_marks(database, studentid):\n",
    "    rows=access_database_with_result(database,\"SELECT unitid, year, round(SUM(CAST(assignments.mark AS FLOAT)/assessments.mark*assessments.weighting),1) FROM assessments INNER JOIN assignments ON assignments.assessmentid = assessments.assessmentid WHERE assignments.studentid = {} GROUP BY unitid\".format(studentid));\n",
    "    return rows\n"
   ]
  },
  {
   "cell_type": "code",
   "execution_count": 10,
   "metadata": {},
   "outputs": [],
   "source": [
    "# This simple test exercises each of the function you need to complete.\n",
    "def run_test():\n",
    "    setup_assessment_tables(\"example.db\")\n",
    "\n",
    "    result = student_units(\"example.db\",1001,2020)\n",
    "    print(result)\n",
    "\n",
    "    result = unit_students(\"example.db\",101,2020)\n",
    "    print(result)\n",
    "\n",
    "    result = unit_numbers(\"example.db\",2020)\n",
    "    print(result)\n",
    "\n",
    "    create_assignments(\"example.db\",2020)\n",
    "    print(access_database_with_result(\"example.db\",\"SELECT * FROM assignments;\"))\n",
    "\n",
    "    mark_assignment(\"example.db\",1001, 1,57);\n",
    "    mark_assignment(\"example.db\",1001, 2,11);\n",
    "    mark_assignment(\"example.db\",1001, 3,45);\n",
    "    mark_assignment(\"example.db\",1002, 3,40);\n",
    "    print(access_database_with_result(\"example.db\",\"SELECT * FROM assignments;\"))\n",
    "\n",
    "    print(unit_marks(\"example.db\",101, 2020))\n",
    "\n",
    "    print(student_marks(\"example.db\",1001))\n",
    "    \n"
   ]
  },
  {
   "cell_type": "code",
   "execution_count": 11,
   "metadata": {},
   "outputs": [
    {
     "name": "stdout",
     "output_type": "stream",
     "text": [
      "[100, 101]\n",
      "[(1001, 'Rod'), (1002, 'Jane')]\n",
      "[(100, 'CM60100', 1), (101, 'CM60101', 2)]\n",
      "[(1, 1001, 1, '2021-1-25 20:00', None, None, 0), (2, 1001, 2, '2020-12-25 20:00', None, None, 0), (3, 1001, 3, '2020-12-15 20:00', None, None, 0), (4, 1002, 3, '2020-12-15 20:00', None, None, 0)]\n",
      "[(1, 1001, 1, '2021-1-25 20:00', None, 57, 1), (2, 1001, 2, '2020-12-25 20:00', None, 11, 1), (3, 1001, 3, '2020-12-15 20:00', None, 45, 1), (4, 1002, 3, '2020-12-15 20:00', None, 40, 1)]\n",
      "[(1001, 90.0), (1002, 80.0)]\n",
      "[(100, 2020, 45.5), (101, 2020, 90.0)]\n"
     ]
    }
   ],
   "source": [
    "# This cell runs the tests in the cell above.\n",
    "run_test()"
   ]
  },
  {
   "cell_type": "markdown",
   "metadata": {
    "collapsed": true
   },
   "source": [
    "## This is the output that run_test() should generate for the example shown.\n",
    "\n",
    "[100, 101]\n",
    "\n",
    "[(1001, 'Rod'), (1002, 'Jane')]\n",
    "\n",
    "[(100, 'CM60100', 1), (101, 'CM60101', 2)]\n",
    "\n",
    "[(1, 1001, 1, '2021-1-25 20:00', None, None, 0), (2, 1001, 2, '2020-12-25 20:00', None, None, 0), (3, 1001, 3, '2020-12-15 20:00', None, None, 0), (4, 1002, 3, '2020-12-15 20:00', None, None, 0)]\n",
    "\n",
    "[(1, 1001, 1, '2021-1-25 20:00', None, 57, 1), (2, 1001, 2, '2020-12-25 20:00', None, 11, 1), (3, 1001, 3, '2020-12-15 20:00', None, 45, 1), (4, 1002, 3, '2020-12-15 20:00', None, 40, 1)]\n",
    "\n",
    "[(1001, 90.0), (1002, 80.0)]\n",
    "\n",
    "[(100, 2020, 45.5), (101, 2020, 90.0)]\n"
   ]
  },
  {
   "cell_type": "code",
   "execution_count": null,
   "metadata": {},
   "outputs": [],
   "source": []
  }
 ],
 "metadata": {
  "kernelspec": {
   "display_name": "Python 3 (ipykernel)",
   "language": "python",
   "name": "python3"
  },
  "language_info": {
   "codemirror_mode": {
    "name": "ipython",
    "version": 3
   },
   "file_extension": ".py",
   "mimetype": "text/x-python",
   "name": "python",
   "nbconvert_exporter": "python",
   "pygments_lexer": "ipython3",
   "version": "3.8.12"
  }
 },
 "nbformat": 4,
 "nbformat_minor": 2
}
